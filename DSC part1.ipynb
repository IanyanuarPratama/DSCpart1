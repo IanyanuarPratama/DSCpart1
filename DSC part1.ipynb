{
 "cells": [
  {
   "cell_type": "code",
   "execution_count": 1,
   "metadata": {},
   "outputs": [
    {
     "name": "stdout",
     "output_type": "stream",
     "text": [
      "Hello world!\n"
     ]
    }
   ],
   "source": [
    "print(\"Hello world!\")"
   ]
  },
  {
   "cell_type": "code",
   "execution_count": 2,
   "metadata": {},
   "outputs": [
    {
     "name": "stdout",
     "output_type": "stream",
     "text": [
      "Hello, Python!\n"
     ]
    }
   ],
   "source": [
    "print(\"Hello, Python!\")\n"
   ]
  },
  {
   "cell_type": "code",
   "execution_count": 3,
   "metadata": {},
   "outputs": [
    {
     "name": "stdout",
     "output_type": "stream",
     "text": [
      "Siapa kamu? kenalan dong.\n",
      "Aku siapa? hayo siapa.\n"
     ]
    }
   ],
   "source": [
    "print(\"Siapa kamu? kenalan dong.\")\n",
    "print(\"Aku siapa? hayo siapa.\")"
   ]
  },
  {
   "cell_type": "code",
   "execution_count": 4,
   "metadata": {},
   "outputs": [
    {
     "name": "stdout",
     "output_type": "stream",
     "text": [
      "Siapa kamu? kenalan dong.\n",
      "\n",
      "Aku siapa? hayo siapa.\n"
     ]
    }
   ],
   "source": [
    "print(\"Siapa kamu? kenalan dong.\")\n",
    "print()#memberikan hasil baris kosong\n",
    "print(\"Aku siapa? hayo siapa.\")"
   ]
  },
  {
   "cell_type": "code",
   "execution_count": 5,
   "metadata": {},
   "outputs": [
    {
     "name": "stdout",
     "output_type": "stream",
     "text": [
      "Siapa kamu?\n",
      "kenalan dong.\n",
      "\n",
      "Aku siapa?\n",
      "hayo siapa.\n"
     ]
    }
   ],
   "source": [
    "print(\"Siapa kamu?\\nkenalan dong.\")\n",
    "print()\n",
    "print(\"Aku siapa?\\nhayo siapa.\")\n",
    "#newline character (\\n) memberikan perintah agar dimulai baris baru"
   ]
  },
  {
   "cell_type": "code",
   "execution_count": 6,
   "metadata": {},
   "outputs": [
    {
     "name": "stdout",
     "output_type": "stream",
     "text": [
      "The itsy bitsy solder climbed up the waterspout\n"
     ]
    }
   ],
   "source": [
    "print(\"The itsy bitsy solder\" , \"climbed up\" , \"the waterspout\")"
   ]
  },
  {
   "cell_type": "code",
   "execution_count": 7,
   "metadata": {},
   "outputs": [
    {
     "name": "stdout",
     "output_type": "stream",
     "text": [
      "My name is Python. Monty Python.\n"
     ]
    }
   ],
   "source": [
    "print(\"My name is\", \"Python.\" , end=\" \")\n",
    "print(\"Monty Python.\")"
   ]
  },
  {
   "cell_type": "code",
   "execution_count": 8,
   "metadata": {},
   "outputs": [
    {
     "name": "stdout",
     "output_type": "stream",
     "text": [
      "ayo_kita_belajar*operasi*Python.*\n",
      "The end\n"
     ]
    }
   ],
   "source": [
    "print(\"ayo\", \"kita\", \"belajar\", sep=\"_\", end=\"*\")\n",
    "print(\"operasi\", \"Python.\", sep=\"*\", end=\"*\\n\")\n",
    "print(\"The end\")\n"
   ]
  },
  {
   "cell_type": "code",
   "execution_count": 9,
   "metadata": {},
   "outputs": [
    {
     "name": "stdout",
     "output_type": "stream",
     "text": [
      "belajar***pemrogaman***di...Python\n"
     ]
    }
   ],
   "source": [
    "print(\"belajar\",\"pemrogaman\",\"di\", sep=\"***\", end=\"...\")\n",
    "print(\"Python\")\n"
   ]
  },
  {
   "cell_type": "code",
   "execution_count": 10,
   "metadata": {},
   "outputs": [
    {
     "data": {
      "text/plain": [
       "300000000.0"
      ]
     },
     "execution_count": 10,
     "metadata": {},
     "output_type": "execute_result"
    }
   ],
   "source": [
    "3E8 #float karena mengandung desimal"
   ]
  },
  {
   "cell_type": "code",
   "execution_count": 11,
   "metadata": {},
   "outputs": [
    {
     "data": {
      "text/plain": [
       "0.00662"
      ]
     },
     "execution_count": 11,
     "metadata": {},
     "output_type": "execute_result"
    }
   ],
   "source": [
    "6.62E-3"
   ]
  },
  {
   "cell_type": "code",
   "execution_count": 12,
   "metadata": {},
   "outputs": [
    {
     "data": {
      "text/plain": [
       "11"
      ]
     },
     "execution_count": 12,
     "metadata": {},
     "output_type": "execute_result"
    }
   ],
   "source": [
    "9+2 #oddition"
   ]
  },
  {
   "cell_type": "code",
   "execution_count": 13,
   "metadata": {},
   "outputs": [
    {
     "data": {
      "text/plain": [
       "7"
      ]
     },
     "execution_count": 13,
     "metadata": {},
     "output_type": "execute_result"
    }
   ],
   "source": [
    "9-2 #subtraction"
   ]
  },
  {
   "cell_type": "code",
   "execution_count": 14,
   "metadata": {},
   "outputs": [
    {
     "data": {
      "text/plain": [
       "64"
      ]
     },
     "execution_count": 14,
     "metadata": {},
     "output_type": "execute_result"
    }
   ],
   "source": [
    "8*8 #multiplication"
   ]
  },
  {
   "cell_type": "code",
   "execution_count": 15,
   "metadata": {},
   "outputs": [
    {
     "data": {
      "text/plain": [
       "3.0"
      ]
     },
     "execution_count": 15,
     "metadata": {},
     "output_type": "execute_result"
    }
   ],
   "source": [
    "9/3 #classic division"
   ]
  },
  {
   "cell_type": "code",
   "execution_count": 16,
   "metadata": {},
   "outputs": [
    {
     "name": "stdout",
     "output_type": "stream",
     "text": [
      "4\n",
      "4.0\n"
     ]
    }
   ],
   "source": [
    "#floor/integer division\n",
    "print(9//2) #pembulatan kebawah menghasilkan integer\n",
    "print(9.5//2) #pembulatan kebawah menghasilkan float\n"
   ]
  },
  {
   "cell_type": "code",
   "execution_count": 17,
   "metadata": {},
   "outputs": [
    {
     "name": "stdout",
     "output_type": "stream",
     "text": [
      "81\n",
      "81.0\n",
      "81.0\n",
      "81.0\n"
     ]
    }
   ],
   "source": [
    "#exponentiation\n",
    "print(9**2)\n",
    "print(9.**2.)\n",
    "print(9**2.)\n",
    "print(9.**2)"
   ]
  },
  {
   "cell_type": "code",
   "execution_count": 18,
   "metadata": {},
   "outputs": [
    {
     "name": "stdout",
     "output_type": "stream",
     "text": [
      "1\n",
      "3\n"
     ]
    }
   ],
   "source": [
    "#modulus\n",
    "print(9%2) #sisa pembagian\n",
    "print(8%5)"
   ]
  },
  {
   "cell_type": "code",
   "execution_count": 19,
   "metadata": {},
   "outputs": [
    {
     "name": "stdout",
     "output_type": "stream",
     "text": [
      "512\n"
     ]
    }
   ],
   "source": [
    "print(2**3**2) #operasi dari kanan 2**(3**2)"
   ]
  },
  {
   "cell_type": "code",
   "execution_count": 20,
   "metadata": {},
   "outputs": [],
   "source": [
    "tinggi_1 = 155\n",
    "tinggi_1 = 170"
   ]
  },
  {
   "cell_type": "code",
   "execution_count": 21,
   "metadata": {},
   "outputs": [],
   "source": [
    "berat_1 = 45\n",
    "berat_2 = 66"
   ]
  },
  {
   "cell_type": "code",
   "execution_count": 22,
   "metadata": {},
   "outputs": [
    {
     "name": "stdout",
     "output_type": "stream",
     "text": [
      "170 170\n",
      "45 66\n"
     ]
    }
   ],
   "source": [
    "print(tinggi_1,tinggi_1)\n",
    "print(berat_1,berat_2)\n"
   ]
  },
  {
   "cell_type": "code",
   "execution_count": 23,
   "metadata": {},
   "outputs": [
    {
     "name": "stdout",
     "output_type": "stream",
     "text": [
      "3\n"
     ]
    }
   ],
   "source": [
    "t1 = 1\n",
    "t2 = 2\n",
    "t1 = t1+2 #t1 yg akan dimasukkan adalah t1 terakhir yaitu 2\n",
    "print(t1)"
   ]
  },
  {
   "cell_type": "code",
   "execution_count": 24,
   "metadata": {},
   "outputs": [
    {
     "name": "stdout",
     "output_type": "stream",
     "text": [
      "2\n",
      "3\n"
     ]
    }
   ],
   "source": [
    "var = 2\n",
    "print(var)\n",
    "var = 3\n",
    "print(var)"
   ]
  },
  {
   "cell_type": "code",
   "execution_count": 25,
   "metadata": {},
   "outputs": [],
   "source": [
    "i = 2\n",
    "j = 5\n",
    "k = 8\n",
    "l = 6\n",
    "m = 10"
   ]
  },
  {
   "cell_type": "code",
   "execution_count": 26,
   "metadata": {},
   "outputs": [
    {
     "name": "stdout",
     "output_type": "stream",
     "text": [
      "10\n"
     ]
    }
   ],
   "source": [
    "#i=i+4*2 -> i=10\n",
    "i += 4*2\n",
    "print(i)\n"
   ]
  },
  {
   "cell_type": "code",
   "execution_count": 27,
   "metadata": {},
   "outputs": [
    {
     "name": "stdout",
     "output_type": "stream",
     "text": [
      "4.0\n"
     ]
    }
   ],
   "source": [
    "#k=k/2 -> k=4\n",
    "k /= 2\n",
    "print(k)"
   ]
  },
  {
   "cell_type": "code",
   "execution_count": 28,
   "metadata": {},
   "outputs": [
    {
     "name": "stdout",
     "output_type": "stream",
     "text": [
      "100\n"
     ]
    }
   ],
   "source": [
    "#m=m**2 ->m=100\n",
    "m **=2\n",
    "print(m)\n"
   ]
  },
  {
   "cell_type": "code",
   "execution_count": 29,
   "metadata": {},
   "outputs": [
    {
     "name": "stdout",
     "output_type": "stream",
     "text": [
      "Namamu siapa? :ian yanuar\n",
      "Namaku ian yanuar\n"
     ]
    }
   ],
   "source": [
    "#FUNGSI INPUT\n",
    "nama = input(\"Namamu siapa? :\") #hasil fungsi input () ini berupa string\n",
    "print(\"Namaku\",nama)"
   ]
  },
  {
   "cell_type": "code",
   "execution_count": 30,
   "metadata": {},
   "outputs": [
    {
     "name": "stdout",
     "output_type": "stream",
     "text": [
      "Nilai IPS semester 1 : 3.71\n",
      "Nilai IPS semester 2 : 3.53\n",
      "jadi nilai IPK ku adalah 3.62\n"
     ]
    }
   ],
   "source": [
    "ips_1 = float(input(\"Nilai IPS semester 1 : \"))\n",
    "ips_2 = float(input(\"Nilai IPS semester 2 : \"))\n",
    "ipk = (ips_1+ips_2)/2.0 #agar dapat dilakukan operasi aritmatika, variabel harus bersifat numerik\n",
    "print(\"jadi nilai IPK ku adalah\", ipk)"
   ]
  },
  {
   "cell_type": "code",
   "execution_count": 31,
   "metadata": {},
   "outputs": [
    {
     "name": "stdout",
     "output_type": "stream",
     "text": [
      "Nama pertama :ian\n",
      "Nama terakhir :yanuar pratama\n",
      "Namaku adalah ian yanuar pratama\n"
     ]
    }
   ],
   "source": [
    "#OPERATOR STRING\n",
    "first = input(\"Nama pertama :\")\n",
    "last = input(\"Nama terakhir :\")\n",
    "print(\"Namaku adalah \" + first +\" \"+ last)"
   ]
  },
  {
   "cell_type": "code",
   "execution_count": 32,
   "metadata": {},
   "outputs": [
    {
     "name": "stdout",
     "output_type": "stream",
     "text": [
      "False\n",
      "True\n"
     ]
    }
   ],
   "source": [
    "#OPERATOR PERBANDINGAN\n",
    "#Equality Operator a==b, apakah a sama dengan b ?\n",
    "print(2==3)\n",
    "print(4==4)"
   ]
  },
  {
   "cell_type": "code",
   "execution_count": 33,
   "metadata": {},
   "outputs": [
    {
     "name": "stdout",
     "output_type": "stream",
     "text": [
      "False\n",
      "True\n"
     ]
    }
   ],
   "source": [
    "a = 5\n",
    "print(a==6)\n",
    "print(a==5)\n"
   ]
  },
  {
   "cell_type": "code",
   "execution_count": 34,
   "metadata": {},
   "outputs": [
    {
     "name": "stdout",
     "output_type": "stream",
     "text": [
      "True\n",
      "False\n"
     ]
    }
   ],
   "source": [
    "#Intequality Operator a!=b, apa a tidak sama dengan b?\n",
    "print(2!=3)\n",
    "print(5!=5)"
   ]
  },
  {
   "cell_type": "code",
   "execution_count": 35,
   "metadata": {},
   "outputs": [
    {
     "name": "stdout",
     "output_type": "stream",
     "text": [
      "Masukkan nilai a: 4\n",
      "Masukkan nilai b: 7\n",
      "oops sorry\n"
     ]
    }
   ],
   "source": [
    "a = int(input(\"Masukkan nilai a: \"))\n",
    "b = int(input(\"Masukkan nilai b: \"))\n",
    "if a==b:\n",
    "    print(\"yeay!\")\n",
    "print(\"oops sorry\") #syarat terpenuhi atau tidak, perintah ini berlaku dalam keadaan apapun"
   ]
  },
  {
   "cell_type": "code",
   "execution_count": 36,
   "metadata": {},
   "outputs": [
    {
     "name": "stdout",
     "output_type": "stream",
     "text": [
      "Masukkan angka pertama: 15\n",
      "Masukkan angka kedua: 20\n",
      "angka yang lebih besar: 20\n"
     ]
    }
   ],
   "source": [
    "num1 = int(input(\"Masukkan angka pertama: \"))\n",
    "num2 = int(input(\"Masukkan angka kedua: \"))\n",
    "\n",
    "#Memilih angka yang lebih besar\n",
    "if num1>num2:\n",
    "    besar = num1\n",
    "else:\n",
    "    besar = num2\n",
    "    \n",
    "#Menampilkan hasil\n",
    "print(\"angka yang lebih besar:\", besar)"
   ]
  },
  {
   "cell_type": "code",
   "execution_count": 37,
   "metadata": {},
   "outputs": [
    {
     "name": "stdout",
     "output_type": "stream",
     "text": [
      "Tanaman kesukaanmu: janda bolong\n",
      "oops\n"
     ]
    }
   ],
   "source": [
    "fav_plant = input(\"Tanaman kesukaanmu: \")\n",
    "if fav_plant==\"Oryza\":\n",
    "    print(\"yeay benar sekali\")\n",
    "else:\n",
    "    print(\"oops\")"
   ]
  },
  {
   "cell_type": "code",
   "execution_count": 38,
   "metadata": {},
   "outputs": [
    {
     "name": "stdout",
     "output_type": "stream",
     "text": [
      "Masukkan angka pertama: 7\n",
      "Masukkan angka pertama: 3\n",
      "gotcha\n",
      "Masukkan angka pertama: 8\n",
      "gotcha\n",
      "Masukkan angka pertama: 10\n",
      "gotcha\n"
     ]
    }
   ],
   "source": [
    "#WHILE\n",
    "besar = 10\n",
    "num1 = int(input(\"Masukkan angka pertama: \"))\n",
    "\n",
    "while num1!=10:\n",
    "    if num1>besar:\n",
    "        besar = num1\n",
    "    num1 = int(input(\"Masukkan angka pertama: \"))\n",
    "    print(\"gotcha\")"
   ]
  },
  {
   "cell_type": "code",
   "execution_count": 39,
   "metadata": {},
   "outputs": [
    {
     "name": "stdout",
     "output_type": "stream",
     "text": [
      "nilai i adalah 0\n",
      "nilai i adalah 1\n",
      "nilai i adalah 2\n",
      "nilai i adalah 3\n",
      "nilai i adalah 4\n",
      "nilai i adalah 5\n",
      "nilai i adalah 6\n",
      "nilai i adalah 7\n",
      "nilai i adalah 8\n",
      "nilai i adalah 9\n"
     ]
    }
   ],
   "source": [
    "#FOR\n",
    "for i in range (10):\n",
    "    print(\"nilai i adalah\", i)"
   ]
  },
  {
   "cell_type": "code",
   "execution_count": 40,
   "metadata": {},
   "outputs": [
    {
     "name": "stdout",
     "output_type": "stream",
     "text": [
      "nilai i adalah 2\n",
      "nilai i adalah 3\n",
      "nilai i adalah 4\n",
      "nilai i adalah 5\n",
      "nilai i adalah 6\n",
      "nilai i adalah 7\n",
      "nilai i adalah 8\n",
      "nilai i adalah 9\n"
     ]
    }
   ],
   "source": [
    "for i in range (2,10):\n",
    "    print(\"nilai i adalah\", i)"
   ]
  },
  {
   "cell_type": "code",
   "execution_count": 41,
   "metadata": {},
   "outputs": [
    {
     "name": "stdout",
     "output_type": "stream",
     "text": [
      "inside the loop. 1\n",
      "inside the loop. 2\n",
      "outside the loop\n"
     ]
    }
   ],
   "source": [
    "#contoh break\n",
    "for i in range(1,6):\n",
    "    if i==3:\n",
    "        break\n",
    "    print(\"inside the loop.\", i)\n",
    "print(\"outside the loop\")"
   ]
  },
  {
   "cell_type": "code",
   "execution_count": 42,
   "metadata": {},
   "outputs": [
    {
     "name": "stdout",
     "output_type": "stream",
     "text": [
      "inside the loop. 1\n",
      "inside the loop. 2\n",
      "inside the loop. 4\n",
      "inside the loop. 5\n",
      "outside the loop\n"
     ]
    }
   ],
   "source": [
    "#contoh continue\n",
    "for i in range(1,6):\n",
    "    if i==3:\n",
    "        continue #melompati atau melanjutkan ke looping berikutnya\n",
    "    print(\"inside the loop.\", i)\n",
    "print(\"outside the loop\")"
   ]
  },
  {
   "cell_type": "code",
   "execution_count": 43,
   "metadata": {},
   "outputs": [
    {
     "name": "stdout",
     "output_type": "stream",
     "text": [
      "elemen-elemen asli:  [10, 5, 7, 2, 1]\n",
      "perubahan elemen: [111, 5, 7, 2, 1]\n",
      "perubahan elemen: [111, 1, 7, 2, 1]\n"
     ]
    }
   ],
   "source": [
    "num = [10, 5, 7, 2,1]\n",
    "print(\"elemen-elemen asli: \", num)\n",
    "\n",
    "num[0] = 111\n",
    "print(\"perubahan elemen:\", num)\n",
    "\n",
    "num[1] = num[4]\n",
    "print(\"perubahan elemen:\", num)"
   ]
  },
  {
   "cell_type": "code",
   "execution_count": 44,
   "metadata": {},
   "outputs": [
    {
     "data": {
      "text/plain": [
       "5"
      ]
     },
     "execution_count": 44,
     "metadata": {},
     "output_type": "execute_result"
    }
   ],
   "source": [
    "#fungsi len()\n",
    "len(num)\n"
   ]
  },
  {
   "cell_type": "code",
   "execution_count": 45,
   "metadata": {},
   "outputs": [
    {
     "name": "stdout",
     "output_type": "stream",
     "text": [
      "[111, 7, 2, 1]\n",
      "4\n"
     ]
    }
   ],
   "source": [
    "#intruksi del\n",
    "del num[1]\n",
    "print(num)\n",
    "print(len(num))\n"
   ]
  },
  {
   "cell_type": "code",
   "execution_count": 46,
   "metadata": {},
   "outputs": [
    {
     "name": "stdout",
     "output_type": "stream",
     "text": [
      "4\n",
      "[100, 101, 102, 105]\n",
      "5\n",
      "[100, 101, 102, 105, 104]\n"
     ]
    }
   ],
   "source": [
    "#append() method\n",
    "num = [100,101,102,105]\n",
    "print(len(num))\n",
    "print(num)\n",
    "\n",
    "num.append(104)\n",
    "print(len(num))\n",
    "print(num)"
   ]
  },
  {
   "cell_type": "code",
   "execution_count": 47,
   "metadata": {},
   "outputs": [
    {
     "name": "stdout",
     "output_type": "stream",
     "text": [
      "Hei itu bukan suatu nilai\n"
     ]
    }
   ],
   "source": [
    "#None\n",
    "value = None\n",
    "if value == None:\n",
    "    print(\"Hei itu bukan suatu nilai\")"
   ]
  },
  {
   "cell_type": "code",
   "execution_count": 48,
   "metadata": {},
   "outputs": [
    {
     "name": "stdout",
     "output_type": "stream",
     "text": [
      "True\n",
      "None\n"
     ]
    }
   ],
   "source": [
    "def angka(n):\n",
    "    if(n % 2 == 0):\n",
    "        return True\n",
    "    \n",
    "print(angka(16))\n",
    "print(angka(17))"
   ]
  },
  {
   "cell_type": "code",
   "execution_count": 50,
   "metadata": {},
   "outputs": [
    {
     "name": "stdout",
     "output_type": "stream",
     "text": [
      "{'salem': '031777111', 'ian': '03188776'}\n",
      "{}\n",
      "031777111\n"
     ]
    }
   ],
   "source": [
    "#Dictionaries\n",
    "nomortelp = {'salem' : '031777111', 'ian' : '03188776'}\n",
    "kamuskosong = {}\n",
    "\n",
    "print(nomortelp)\n",
    "print(kamuskosong)\n",
    "print(nomortelp['salem'])"
   ]
  },
  {
   "cell_type": "code",
   "execution_count": 51,
   "metadata": {},
   "outputs": [
    {
     "name": "stdout",
     "output_type": "stream",
     "text": [
      "{'Indonesia': 'Bahasa Indonesia', 'England': 'English'}\n",
      "{'Indonesia': 'Bahasa Indonesia', 'China': 'Mandarin'}\n"
     ]
    }
   ],
   "source": [
    "#Menghapus Item\n",
    "bahasa = {'Indonesia':'Bahasa Indonesia','China':'Mandarin', 'England':'English'}\n",
    "del bahasa['China']\n",
    "print(bahasa)\n",
    "\n",
    "#Menghapus item paling terakhir\n",
    "bahasa = {'Indonesia':'Bahasa Indonesia','China':'Mandarin', 'England':'English'}\n",
    "bahasa.popitem()\n",
    "print(bahasa)"
   ]
  },
  {
   "cell_type": "code",
   "execution_count": 52,
   "metadata": {},
   "outputs": [
    {
     "name": "stdout",
     "output_type": "stream",
     "text": [
      "{'Indonesia': 'Bahasa Indonesia', 'China': 'Mandarin', 'England': 'English'}\n"
     ]
    }
   ],
   "source": [
    "#Mengubah format tuple ke dictionaries\n",
    "bahasa = (('Indonesia','Bahasa Indonesia'),('China','Mandarin'), ('England','English'))\n",
    "newdict = dict(bahasa)\n",
    "print(newdict)"
   ]
  },
  {
   "cell_type": "code",
   "execution_count": 53,
   "metadata": {},
   "outputs": [
    {
     "name": "stdout",
     "output_type": "stream",
     "text": [
      "makanan kesukaanmu: rawon\n",
      "yeay benar sekali\n"
     ]
    }
   ],
   "source": [
    "fav_food = input(\"makanan kesukaanmu: \")\n",
    "if fav_food==\"rawon\":\n",
    "    print(\"yeay benar sekali\")\n",
    "else:\n",
    "    print(\"oops\")"
   ]
  },
  {
   "cell_type": "code",
   "execution_count": null,
   "metadata": {},
   "outputs": [],
   "source": []
  }
 ],
 "metadata": {
  "kernelspec": {
   "display_name": "Python 3",
   "language": "python",
   "name": "python3"
  },
  "language_info": {
   "codemirror_mode": {
    "name": "ipython",
    "version": 3
   },
   "file_extension": ".py",
   "mimetype": "text/x-python",
   "name": "python",
   "nbconvert_exporter": "python",
   "pygments_lexer": "ipython3",
   "version": "3.7.4"
  }
 },
 "nbformat": 4,
 "nbformat_minor": 2
}
